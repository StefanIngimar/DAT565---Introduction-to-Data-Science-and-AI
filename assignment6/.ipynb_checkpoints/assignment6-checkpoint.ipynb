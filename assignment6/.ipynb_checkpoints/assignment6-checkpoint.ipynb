{
 "cells": [
  {
   "cell_type": "markdown",
   "id": "a8cfbe27",
   "metadata": {},
   "source": [
    "CPU only pytorch install\n",
    "\n",
    "Install with condo:\n",
    "conda install -c pytorch pytorch torchvision cpuonly\n",
    "\n",
    "Install with pip\n",
    "pip3 install torch torchvision torchaudio --index-url https://download.pytorch.org/whl/cpu"
   ]
  },
  {
   "cell_type": "code",
   "execution_count": 3,
   "id": "b05fe724",
   "metadata": {},
   "outputs": [],
   "source": [
    "import torch\n",
    "from torchvision import datasets, transforms\n",
    "from torch.utils.data import DataLoader\n",
    "\n",
    "import matplotlib.pyplot as plt\n",
    "\n",
    "import torch.nn as nn\n",
    "import torch.optim as optim\n",
    "import torch.nn.functional as F"
   ]
  },
  {
   "cell_type": "code",
   "execution_count": 4,
   "id": "df26d626",
   "metadata": {},
   "outputs": [],
   "source": [
    "# folder path\n",
    "mnist_dataset_path = \"data\""
   ]
  },
  {
   "cell_type": "code",
   "execution_count": 5,
   "id": "c35d3da2-01b0-4cb1-9b3e-b349690b9f20",
   "metadata": {},
   "outputs": [],
   "source": [
    "# Transform to convert images to Tensors and normalize to [0, 1]\n",
    "transform = transforms.Compose(\n",
    "    [transforms.ToTensor(), transforms.Normalize((0,), (1,))]\n",
    ")"
   ]
  },
  {
   "cell_type": "code",
   "execution_count": 6,
   "id": "e1082dc5",
   "metadata": {},
   "outputs": [],
   "source": [
    "train_dataset = datasets.MNIST(\n",
    "    root=mnist_dataset_path, train=True, download=True, transform=transform\n",
    ")\n",
    "test_dataset = datasets.MNIST(\n",
    "    root=mnist_dataset_path, train=False, download=True, transform=transform\n",
    ")"
   ]
  },
  {
   "cell_type": "code",
   "execution_count": 7,
   "id": "f285202f",
   "metadata": {},
   "outputs": [],
   "source": [
    "train_batch = DataLoader(train_dataset, batch_size=64, shuffle=True)\n",
    "test_batch = DataLoader(test_dataset, batch_size=64, shuffle=False)"
   ]
  },
  {
   "cell_type": "code",
   "execution_count": 8,
   "id": "aa77ae69",
   "metadata": {},
   "outputs": [
    {
     "name": "stdout",
     "output_type": "stream",
     "text": [
      "Train Image batch shape: torch.Size([64, 1, 28, 28])\n",
      "Train Label batch shape: torch.Size([64])\n",
      "Train Min pixel value: 0.0\n",
      "Train Max pixel value: 1.0\n"
     ]
    }
   ],
   "source": [
    "train_batch_images, train_batch_labels = next(iter(train_batch))\n",
    "\n",
    "# Verify dimensions and scale\n",
    "print(f\"Train Image batch shape: {train_batch_images.shape}\")\n",
    "print(f\"Train Label batch shape: {train_batch_labels.shape}\")\n",
    "print(f\"Train Min pixel value: {train_batch_images.min()}\")\n",
    "print(f\"Train Max pixel value: {train_batch_images.max()}\")"
   ]
  },
  {
   "cell_type": "code",
   "execution_count": 9,
   "id": "67764508",
   "metadata": {},
   "outputs": [
    {
     "name": "stdout",
     "output_type": "stream",
     "text": [
      "Test Image batch shape: torch.Size([64, 1, 28, 28])\n",
      "Test Label batch shape: torch.Size([64])\n",
      "Test Min pixel value: 0.0\n",
      "Test Max pixel value: 1.0\n"
     ]
    }
   ],
   "source": [
    "test_batch_images, test_batch_labels = next(iter(test_batch))\n",
    "\n",
    "# Verify dimensions and scale\n",
    "print(f\"Test Image batch shape: {test_batch_images.shape}\")\n",
    "print(f\"Test Label batch shape: {test_batch_labels.shape}\")\n",
    "print(f\"Test Min pixel value: {test_batch_images.min()}\")\n",
    "print(f\"Test Max pixel value: {test_batch_images.max()}\")"
   ]
  },
  {
   "cell_type": "code",
   "execution_count": 10,
   "id": "8589a500",
   "metadata": {},
   "outputs": [],
   "source": [
    "def plot_images(images, labels, title):\n",
    "    plt.figure(figsize=(10, 4))\n",
    "    for i in range(5):\n",
    "        image = images[i]\n",
    "        label = labels[i]\n",
    "        image = image.squeeze(0).numpy()\n",
    "        plt.subplot(1, 5, i + 1)\n",
    "        plt.imshow(image, cmap=\"gray\")\n",
    "        plt.title(f\"label: {label}\")\n",
    "        plt.axis(\"off\")\n",
    "    plt.suptitle(title)\n",
    "    plt.show()"
   ]
  },
  {
   "cell_type": "code",
   "execution_count": 11,
   "id": "a679374f",
   "metadata": {},
   "outputs": [
    {
     "data": {
      "image/png": "[encoded data removed]",
      "text/plain": [
       "<Figure size 1000x400 with 5 Axes>"
      ]
     },
     "metadata": {},
     "output_type": "display_data"
    }
   ],
   "source": [
    "# plot for training data set\n",
    "plot_images(train_batch_images, train_batch_labels, \"training set examples\")"
   ]
  },
  {
   "cell_type": "code",
   "execution_count": 12,
   "id": "6db88499-525a-4cb4-8e43-d5a6de0e2382",
   "metadata": {},
   "outputs": [
    {
     "data": {
      "image/png": "[encoded data removed]",
      "text/plain": [
       "<Figure size 1000x400 with 5 Axes>"
      ]
     },
     "metadata": {},
     "output_type": "display_data"
    }
   ],
   "source": [
    "# plot for training data set\n",
    "plot_images(test_batch_images, test_batch_labels, \"test set examples\")"
   ]
  },
  {
   "cell_type": "code",
   "execution_count": 21,
   "id": "77bd0daa",
   "metadata": {},
   "outputs": [
    {
     "name": "stdout",
     "output_type": "stream",
     "text": [
      "Using cpu device\n"
     ]
    }
   ],
   "source": [
    "device = (\n",
    "    \"cuda\"\n",
    "    if torch.cuda.is_available()\n",
    "    else \"mps\" if torch.backends.mps.is_available() else \"cpu\"\n",
    ")\n",
    "print(f\"Using {device} device\")"
   ]
  },
  {
   "cell_type": "code",
   "execution_count": 25,
   "id": "2a41903a",
   "metadata": {},
   "outputs": [],
   "source": [
    "# https://www.geeksforgeeks.org/how-to-implement-neural-networks-in-pytorch/\n",
    "# https://medium.com/@myringoleMLGOD/simple-neural-network-for-dummies-in-pytorch-a-step-by-step-guide-38c4b1c914c0\n",
    "# https://pytorch.org/tutorials/beginner/basics/buildmodel_tutorial.html#define-the-class\n",
    "class Assignment6FFNetworkProb2(nn.Module):\n",
    "    def __init__(self):\n",
    "        super().__init__()\n",
    "        input_size = 28 * 28\n",
    "        hidden_layer = 50\n",
    "        output_size = 10\n",
    "        self.flatten = nn.Flatten()\n",
    "        self.linear_relu_stack = nn.Sequential(\n",
    "            nn.Linear(input_size, hidden_layer),\n",
    "            nn.ReLU(),\n",
    "            nn.Linear(hidden_layer, output_size),\n",
    "        )\n",
    "\n",
    "    def forward(self, x):\n",
    "        x = self.flatten(x)\n",
    "        logits = self.linear_relu_stack(x)\n",
    "        return logits"
   ]
  },
  {
   "cell_type": "code",
   "execution_count": 27,
   "id": "2b3d790d",
   "metadata": {},
   "outputs": [
    {
     "name": "stdout",
     "output_type": "stream",
     "text": [
      "Assignment6FFNetworkProb2(\n",
      "  (flatten): Flatten(start_dim=1, end_dim=-1)\n",
      "  (linear_relu_stack): Sequential(\n",
      "    (0): Linear(in_features=784, out_features=50, bias=True)\n",
      "    (1): ReLU()\n",
      "    (2): Linear(in_features=50, out_features=10, bias=True)\n",
      "  )\n",
      ")\n"
     ]
    }
   ],
   "source": [
    "model = Assignment6FFNetworkProb2().to(device)\n",
    "print(model)"
   ]
  },
  {
   "cell_type": "code",
   "execution_count": 29,
   "id": "b3ef08a0",
   "metadata": {},
   "outputs": [],
   "source": [
    "def train_and_test_model(eval_model, optimizer_model, criterion_model):\n",
    "    eval_model.train()\n",
    "    for images, labels in train_batch:\n",
    "        # Forward pass\n",
    "        outputs = eval_model(images)\n",
    "        loss = criterion_model(outputs, labels)\n",
    "\n",
    "        # Backward pass\n",
    "        optimizer_model.zero_grad()\n",
    "        loss.backward()\n",
    "        optimizer_model.step()\n",
    "\n",
    "    eval_model.eval()\n",
    "    correct = 0\n",
    "    total = 0\n",
    "    with torch.no_grad():\n",
    "        for images, labels in test_batch:\n",
    "            logits = eval_model(images)\n",
    "            pred_probab = nn.Softmax(dim=1)(logits)\n",
    "            y_pred = pred_probab.argmax(1)\n",
    "\n",
    "            correct += (y_pred == labels).sum().item()\n",
    "            total += labels.size(0)\n",
    "\n",
    "    accuracy = 100 * correct / total\n",
    "    return accuracy"
   ]
  },
  {
   "cell_type": "code",
   "execution_count": 31,
   "id": "d772fa98",
   "metadata": {},
   "outputs": [
    {
     "name": "stdout",
     "output_type": "stream",
     "text": [
      "Epoch [1/10], Validation Accuracy: 86.20%\n",
      "Epoch [2/10], Validation Accuracy: 89.17%\n",
      "Epoch [3/10], Validation Accuracy: 90.06%\n",
      "Epoch [4/10], Validation Accuracy: 90.78%\n",
      "Epoch [5/10], Validation Accuracy: 91.24%\n",
      "Epoch [6/10], Validation Accuracy: 91.52%\n",
      "Epoch [7/10], Validation Accuracy: 91.94%\n",
      "Epoch [8/10], Validation Accuracy: 91.95%\n",
      "Epoch [9/10], Validation Accuracy: 92.33%\n",
      "Epoch [10/10], Validation Accuracy: 92.60%\n"
     ]
    }
   ],
   "source": [
    "# problem 2\n",
    "epoch_run_time = 10\n",
    "\n",
    "model_sim = Assignment6FFNetworkProb2()\n",
    "criterion_sim = nn.CrossEntropyLoss()\n",
    "optimizer_sim = optim.SGD(model_sim.parameters(), lr=0.01)\n",
    "\n",
    "for epoch in range(epoch_run_time):\n",
    "    accuracy = train_and_test_model(model_sim, optimizer_sim, criterion_sim)\n",
    "    print(f\"Epoch [{epoch + 1}/{epoch_run_time}], Validation Accuracy: {accuracy:.2f}%\")"
   ]
  },
  {
   "cell_type": "code",
   "execution_count": 60,
   "id": "2d8510b5",
   "metadata": {},
   "outputs": [],
   "source": [
    "# problem 3\n",
    "class Assignment6FFNetworkProb3(nn.Module):\n",
    "    def __init__(self):\n",
    "        super().__init__()\n",
    "        input_size = 28 * 28\n",
    "        hidden_layer_1 = 400\n",
    "        hidden_layer_2 = 200\n",
    "        output_size = 10\n",
    "        self.flatten = nn.Flatten()\n",
    "        self.linear_relu_stack = nn.Sequential(\n",
    "            nn.Linear(input_size, hidden_layer_1),\n",
    "            nn.ReLU(),\n",
    "            nn.Linear(hidden_layer_1, hidden_layer_2),\n",
    "            nn.ReLU(),\n",
    "            nn.Linear(hidden_layer_2, output_size),\n",
    "        )\n",
    "\n",
    "    def forward(self, x):\n",
    "        x = self.flatten(x)\n",
    "        logits = self.linear_relu_stack(x)\n",
    "        return logits"
   ]
  },
  {
   "cell_type": "code",
   "execution_count": 62,
   "id": "fe249b58",
   "metadata": {},
   "outputs": [
    {
     "name": "stdout",
     "output_type": "stream",
     "text": [
      "Assignment6FFNetworkProb3(\n",
      "  (flatten): Flatten(start_dim=1, end_dim=-1)\n",
      "  (linear_relu_stack): Sequential(\n",
      "    (0): Linear(in_features=784, out_features=400, bias=True)\n",
      "    (1): ReLU()\n",
      "    (2): Linear(in_features=400, out_features=200, bias=True)\n",
      "    (3): ReLU()\n",
      "    (4): Linear(in_features=200, out_features=10, bias=True)\n",
      "  )\n",
      ")\n"
     ]
    }
   ],
   "source": [
    "model = Assignment6FFNetworkProb3().to(device)\n",
    "print(model)"
   ]
  },
  {
   "cell_type": "code",
   "execution_count": 64,
   "id": "23642b7a",
   "metadata": {},
   "outputs": [
    {
     "name": "stdout",
     "output_type": "stream",
     "text": [
      "Epoch [1/40], Validation Accuracy: 88.61%\n",
      "Epoch [2/40], Validation Accuracy: 91.38%\n",
      "Epoch [3/40], Validation Accuracy: 92.31%\n",
      "Epoch [4/40], Validation Accuracy: 93.16%\n",
      "Epoch [5/40], Validation Accuracy: 94.00%\n",
      "Epoch [6/40], Validation Accuracy: 94.59%\n",
      "Epoch [7/40], Validation Accuracy: 94.95%\n",
      "Epoch [8/40], Validation Accuracy: 95.31%\n",
      "Epoch [9/40], Validation Accuracy: 95.60%\n",
      "Epoch [10/40], Validation Accuracy: 96.13%\n",
      "Epoch [11/40], Validation Accuracy: 96.39%\n",
      "Epoch [12/40], Validation Accuracy: 96.60%\n",
      "Epoch [13/40], Validation Accuracy: 96.71%\n",
      "Epoch [14/40], Validation Accuracy: 96.86%\n",
      "Epoch [15/40], Validation Accuracy: 97.02%\n",
      "Epoch [16/40], Validation Accuracy: 97.12%\n",
      "Epoch [17/40], Validation Accuracy: 97.16%\n",
      "Epoch [18/40], Validation Accuracy: 97.17%\n",
      "Epoch [19/40], Validation Accuracy: 97.34%\n",
      "Epoch [20/40], Validation Accuracy: 97.39%\n",
      "Epoch [21/40], Validation Accuracy: 97.50%\n",
      "Epoch [22/40], Validation Accuracy: 97.58%\n",
      "Epoch [23/40], Validation Accuracy: 97.60%\n",
      "Epoch [24/40], Validation Accuracy: 97.61%\n",
      "Epoch [25/40], Validation Accuracy: 97.73%\n",
      "Epoch [26/40], Validation Accuracy: 97.78%\n",
      "Epoch [27/40], Validation Accuracy: 97.84%\n",
      "Epoch [28/40], Validation Accuracy: 97.72%\n",
      "Epoch [29/40], Validation Accuracy: 97.87%\n",
      "Epoch [30/40], Validation Accuracy: 97.95%\n",
      "Epoch [31/40], Validation Accuracy: 97.83%\n",
      "Epoch [32/40], Validation Accuracy: 97.96%\n",
      "Epoch [33/40], Validation Accuracy: 97.92%\n",
      "Epoch [34/40], Validation Accuracy: 97.97%\n",
      "Epoch [35/40], Validation Accuracy: 97.97%\n",
      "Epoch [36/40], Validation Accuracy: 98.00%\n",
      "Epoch [37/40], Validation Accuracy: 98.02%\n",
      "Epoch [38/40], Validation Accuracy: 98.06%\n",
      "Epoch [39/40], Validation Accuracy: 98.02%\n",
      "Epoch [40/40], Validation Accuracy: 98.07%\n"
     ]
    }
   ],
   "source": [
    "epoch_run_time = 40\n",
    "\n",
    "model_new = Assignment6FFNetworkProb3()\n",
    "criterion_new = nn.CrossEntropyLoss()\n",
    "# weight_decay: L2 regularization parameter\n",
    "optimizer_new = optim.SGD(model_new.parameters(), lr=0.02, weight_decay=5e-7)\n",
    "\n",
    "for epoch in range(epoch_run_time):\n",
    "    accuracy = train_and_test_model(model_new, optimizer_new, criterion_new)\n",
    "    print(f\"Epoch [{epoch + 1}/{epoch_run_time}], Validation Accuracy: {accuracy:.2f}%\")"
   ]
  },
  {
   "cell_type": "code",
   "execution_count": 35,
   "id": "37f6b121",
   "metadata": {},
   "outputs": [],
   "source": [
    "# problem 4\n",
    "class Assignment6FFCNNNetworkProb4(nn.Module):\n",
    "    def __init__(self):\n",
    "        super(Assignment6FFCNNNetworkProb4, self).__init__()\n",
    "\n",
    "        # First 2D convolutional layer, taking in 1 input channel (image),\n",
    "        # outputting 32 convolutional features, with a square kernel size of 3\n",
    "        self.conv1 = nn.Conv2d(1, 32, 3, 1)\n",
    "        # Second 2D convolutional layer, taking in the 32 input layers,\n",
    "        # outputting 64 convolutional features, with a square kernel size of 3\n",
    "        self.conv2 = nn.Conv2d(32, 64, 3, 1)\n",
    "\n",
    "        # Designed to ensure that adjacent pixels are either all 0s or all active\n",
    "        # with an input probability\n",
    "        self.dropout1 = nn.Dropout(0.25)\n",
    "        self.dropout2 = nn.Dropout(0.5)\n",
    "\n",
    "        # First fully connected layer\n",
    "        self.fc1 = nn.Linear(9216, 128)\n",
    "        # Second fully connected layer that outputs our 10 labels\n",
    "        self.fc2 = nn.Linear(128, 10)\n",
    "\n",
    "    # x represents our data\n",
    "    def forward(self, x):\n",
    "        # Pass data through conv1\n",
    "        x = self.conv1(x)\n",
    "        # Use the rectified-linear activation function over x\n",
    "        x = F.relu(x)\n",
    "\n",
    "        x = self.conv2(x)\n",
    "        x = F.relu(x)\n",
    "\n",
    "        # Run max pooling over x\n",
    "        x = F.max_pool2d(x, 2)\n",
    "        # Pass data through dropout1\n",
    "        x = self.dropout1(x)\n",
    "        # Flatten x with start_dim=1\n",
    "        x = torch.flatten(x, 1)\n",
    "        # Pass data through ``fc1``\n",
    "        x = self.fc1(x)\n",
    "        x = F.relu(x)\n",
    "        x = self.dropout2(x)\n",
    "        x = self.fc2(x)\n",
    "\n",
    "        # Apply softmax to x\n",
    "        output = F.log_softmax(x, dim=1)\n",
    "        return output"
   ]
  },
  {
   "cell_type": "code",
   "execution_count": 36,
   "id": "63476386",
   "metadata": {},
   "outputs": [],
   "source": [
    "def train_and_test_CNN_model(eval_model, optimizer_model, criterion_model):\n",
    "    eval_model.train()\n",
    "    for images, labels in train_batch:\n",
    "        # Forward pass\n",
    "        outputs = eval_model(images)\n",
    "        loss = criterion_model(outputs, labels)\n",
    "\n",
    "        # Backward pass\n",
    "        optimizer_model.zero_grad()\n",
    "        loss.backward()\n",
    "        optimizer_model.step()\n",
    "\n",
    "    eval_model.eval()\n",
    "    correct = 0\n",
    "    total = 0\n",
    "    with torch.no_grad():\n",
    "        for images, labels in test_batch:\n",
    "            result = eval_model(images)\n",
    "            #different from method above\n",
    "            y_pred = result.argmax(1)\n",
    "\n",
    "            correct += (y_pred == labels).sum().item()\n",
    "            total += labels.size(0)\n",
    "\n",
    "    accuracy = 100 * correct / total\n",
    "    return accuracy"
   ]
  },
  {
   "cell_type": "code",
   "execution_count": 66,
   "id": "43ea9071",
   "metadata": {},
   "outputs": [
    {
     "name": "stdout",
     "output_type": "stream",
     "text": [
      "Epoch [1/40], Validation Accuracy: 98.04%\n",
      "Epoch [2/40], Validation Accuracy: 97.96%\n",
      "Epoch [3/40], Validation Accuracy: 97.95%\n",
      "Epoch [4/40], Validation Accuracy: 98.03%\n",
      "Epoch [5/40], Validation Accuracy: 97.98%\n",
      "Epoch [6/40], Validation Accuracy: 98.05%\n",
      "Epoch [7/40], Validation Accuracy: 98.07%\n",
      "Epoch [8/40], Validation Accuracy: 98.01%\n",
      "Epoch [9/40], Validation Accuracy: 98.11%\n",
      "Epoch [10/40], Validation Accuracy: 98.04%\n",
      "Epoch [11/40], Validation Accuracy: 98.12%\n",
      "Epoch [12/40], Validation Accuracy: 98.09%\n",
      "Epoch [13/40], Validation Accuracy: 98.06%\n",
      "Epoch [14/40], Validation Accuracy: 98.10%\n",
      "Epoch [15/40], Validation Accuracy: 98.10%\n",
      "Epoch [16/40], Validation Accuracy: 98.00%\n",
      "Epoch [17/40], Validation Accuracy: 98.06%\n",
      "Epoch [18/40], Validation Accuracy: 98.12%\n",
      "Epoch [19/40], Validation Accuracy: 98.05%\n",
      "Epoch [20/40], Validation Accuracy: 98.02%\n",
      "Epoch [21/40], Validation Accuracy: 98.13%\n",
      "Epoch [22/40], Validation Accuracy: 98.13%\n",
      "Epoch [23/40], Validation Accuracy: 98.10%\n",
      "Epoch [24/40], Validation Accuracy: 98.10%\n",
      "Epoch [25/40], Validation Accuracy: 98.05%\n",
      "Epoch [26/40], Validation Accuracy: 98.09%\n",
      "Epoch [27/40], Validation Accuracy: 98.16%\n",
      "Epoch [28/40], Validation Accuracy: 98.14%\n",
      "Epoch [29/40], Validation Accuracy: 98.07%\n",
      "Epoch [30/40], Validation Accuracy: 98.08%\n",
      "Epoch [31/40], Validation Accuracy: 98.13%\n",
      "Epoch [32/40], Validation Accuracy: 98.07%\n",
      "Epoch [33/40], Validation Accuracy: 98.12%\n",
      "Epoch [34/40], Validation Accuracy: 98.17%\n",
      "Epoch [35/40], Validation Accuracy: 98.16%\n",
      "Epoch [36/40], Validation Accuracy: 98.17%\n",
      "Epoch [37/40], Validation Accuracy: 98.15%\n",
      "Epoch [38/40], Validation Accuracy: 98.13%\n",
      "Epoch [39/40], Validation Accuracy: 98.20%\n",
      "Epoch [40/40], Validation Accuracy: 98.11%\n"
     ]
    }
   ],
   "source": [
    "# Initialize the network, loss function, and optimizer\n",
    "epoch_run_time = 40\n",
    "\n",
    "model_conv = Assignment6FFCNNNetworkProb4()\n",
    "criterion_conv = nn.CrossEntropyLoss()\n",
    "optimizer_conv = optim.SGD(model_conv.parameters(), lr=0.01, weight_decay=1e-4)\n",
    "\n",
    "for epoch in range(epoch_run_time):\n",
    "    accuracy = train_and_test_CNN_model(model_new, optimizer_new, criterion_new)\n",
    "    print(f\"Epoch [{epoch + 1}/{epoch_run_time}], Validation Accuracy: {accuracy:.2f}%\")"
   ]
  },
  {
   "cell_type": "code",
   "execution_count": null,
   "id": "8d576f62-48d2-488a-b2aa-8e7f9517e8a1",
   "metadata": {},
   "outputs": [],
   "source": []
  }
 ],
 "metadata": {
  "kernelspec": {
   "display_name": "Python 3 (ipykernel)",
   "language": "python",
   "name": "python3"
  },
  "language_info": {
   "codemirror_mode": {
    "name": "ipython",
    "version": 3
   },
   "file_extension": ".py",
   "mimetype": "text/x-python",
   "name": "python",
   "nbconvert_exporter": "python",
   "pygments_lexer": "ipython3",
   "version": "3.12.7"
  }
 },
 "nbformat": 4,
 "nbformat_minor": 5
}
